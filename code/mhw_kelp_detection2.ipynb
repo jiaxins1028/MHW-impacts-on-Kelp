{
 "cells": [
  {
   "cell_type": "code",
   "execution_count": null,
   "id": "feccd1bf-efd9-4ac1-a7de-5e455a60c66f",
   "metadata": {},
   "outputs": [],
   "source": [
    "import netCDF4 as nc\n",
    "import scipy \n",
    "import os\n",
    "import re\n",
    "import xarray as xr\n",
    "import numpy as np\n",
    "import pandas as pd\n",
    "import matplotlib.pyplot as plt\n",
    "# Load marineHeatWaves definition module\n",
    "import marineHeatWaves as mhw\n",
    "import dask\n",
    "from xmhw.xmhw import threshold, detect\n",
    "from datetime import date\n",
    "\n",
    "import statsmodels.api as sm\n",
    "import statsmodels.formula.api as smf\n",
    "import plotly.express as px\n",
    "import plotly.graph_objects as go\n",
    "import hashlib\n",
    "import matplotlib.colors as mcolors"
   ]
  },
  {
   "cell_type": "code",
   "execution_count": null,
   "id": "9e5dce56-ed13-40d8-84f0-0bb0c33e1daf",
   "metadata": {},
   "outputs": [],
   "source": [
    "input_location = 'Maria Island' ## change this location"
   ]
  },
  {
   "cell_type": "code",
   "execution_count": null,
   "id": "6356fcee-c62a-46c7-9037-28f185ba37e8",
   "metadata": {},
   "outputs": [],
   "source": [
    "df_location = pd.read_csv('/g/data/v45/js5018/kelpdata/er_atrc_site.csv')\n",
    "input_lat = df_location.latitude[df_location.location == input_location].mean()\n",
    "input_lon = df_location.longitude[df_location.location == input_location].mean()"
   ]
  },
  {
   "cell_type": "markdown",
   "id": "9e646546-a316-4633-89af-ab7fcb9180d6",
   "metadata": {},
   "source": [
    "## Find mhws and temperatures in each location"
   ]
  },
  {
   "cell_type": "code",
   "execution_count": null,
   "id": "eb458cd7-edd3-4bb0-b081-6644c26d5b21",
   "metadata": {},
   "outputs": [],
   "source": [
    "def summer_mhw_metric(input_location):\n",
    "    infile = '/g/data/v45/js5018/sst/OBIS_kelp_sst.nc'    \n",
    "    \n",
    "    ds = xr.open_dataset(infile).sel(\n",
    "        time = slice('1991-01-01','2024-12-31')).sel(\n",
    "        lat = slice(input_lat-0.25, input_lat+0.25), lon = slice(input_lon-0.25, input_lon+0.25)).squeeze('zlev', drop=True).mean(dim=(\"lat\", \"lon\"))\n",
    "    ds_summer = ds.sel(time=ds.sst.time.dt.month.isin([12,1,2,3,4]))\n",
    "    \n",
    "    date = np.array(ds_summer.time,dtype='datetime64[ns]')\n",
    "    df = pd.DataFrame(date, columns=['date']) \n",
    "    df['doy'] = df['date'].dt.dayofyear\n",
    "    df['temp'] = pd.DataFrame(ds_summer.sst.values)\n",
    "    t = ds.time.values\n",
    "    sst = ds.sst.values\n",
    "    clim = threshold(ds.sst, climatologyPeriod=[1991, 2020]) # threshold and climatology\n",
    "    maxthresh = clim.seas.max().values \n",
    "    \n",
    "    # Convert the xarray DataArray to a DataFrame\n",
    "    climatology_df = clim.to_dataframe().reset_index()\n",
    "\n",
    "    # Merge the two DataFrames on the 'doy' column\n",
    "    merged_df = pd.merge(df, climatology_df, on='doy', how='left')  \n",
    "\n",
    "    # add the dhd column, only keep positive intense values as our dhd\n",
    "    merged_df['dhd50'] = (merged_df.temp - maxthresh).where((merged_df.temp - maxthresh)>0, 0)  \n",
    "    merged_df['max_inten'] = merged_df.temp - maxthresh   ### intensity relative to different climatology values\n",
    "    ## ==========================temp, cum_inten, max_inten ===========================================\n",
    "    summer_mhw_metrix = merged_df[['temp', 'dhd50', 'max_inten']].set_index(merged_df.date)\n",
    "    summer_mhw_metrix.columns = ['summer_temp', 'summer_dhd50', 'summer_inten']\n",
    "    # get mean summer temp and sum of summer intense\n",
    "    summer_mhw_metrix = summer_mhw_metrix.resample('AS-DEC').agg({'summer_temp': 'mean', 'summer_dhd50': 'sum', 'summer_inten': 'max'})\n",
    "    # add one year\n",
    "    summer_mhw_metrix['survey_year'] = summer_mhw_metrix.index.year+1\n",
    "    \n",
    "    ## ============================= dt dt =========================================================\n",
    "    df = df.set_index('date')\n",
    "    dt = 10\n",
    "    dTdt = pd.DataFrame()\n",
    "    for i in df.index.year.unique()[0:-1]:\n",
    "        ssti = df[(df.index.year == i) & (df.index.month > 11) | (df.index.year == i+1) & (df.index.month <5)]\n",
    "        \n",
    "        # calculate n-day jumping mean\n",
    "        jmeani = ssti.resample('10D').mean()\n",
    "\n",
    "        # calculate dT as difference between consecutive 10-day means\n",
    "        dT = jmeani.diff(periods=1)\n",
    "        dTdt = pd.concat([dTdt, dT/dt])  #.mean()\n",
    "        dTdt = dTdt.dropna()\n",
    "\n",
    "    summer_dtdt = dTdt.resample('AS-DEC').max()\n",
    "    summer_dtdt = summer_dtdt.rename(columns={'temp': 'summer_dtdt'}) \n",
    "    summer_dtdt['survey_year'] = summer_dtdt.index.year + 1\n",
    "    \n",
    "    summer_mhw_metrix = summer_mhw_metrix.merge(summer_dtdt, how='inner', on='survey_year')\n",
    "    \n",
    "    return summer_mhw_metrix"
   ]
  },
  {
   "cell_type": "code",
   "execution_count": null,
   "id": "7edddbc4-1b06-46c8-a9e8-4e5d62e165a3",
   "metadata": {},
   "outputs": [],
   "source": [
    "# check the output metric df\n",
    "summer_mhw_metrix = summer_mhw_metric(input_location).fillna(0)\n",
    "summer_mhw_metrix #.head()"
   ]
  },
  {
   "cell_type": "markdown",
   "id": "12742891-8556-4b52-9262-0b32bbb9baef",
   "metadata": {
    "tags": []
   },
   "source": [
    "### kelp change all data"
   ]
  },
  {
   "cell_type": "markdown",
   "id": "dddc3989-c660-4881-babe-daaec5be1ef4",
   "metadata": {
    "tags": []
   },
   "source": [
    "#### Site and year selection first"
   ]
  },
  {
   "cell_type": "code",
   "execution_count": null,
   "id": "b4879940-5a44-4236-a579-befd363060c5",
   "metadata": {},
   "outputs": [],
   "source": [
    "def get_site_year(input_location):\n",
    "    df_site_kelp = pd.read_csv(\"/g/data/v45/js5018/kelpdata/er_3pop_site.csv\") \n",
    "    df_site_kelp = df_site_kelp[df_site_kelp.location == input_location]\n",
    "\n",
    "    df_site_kelp = df_site_kelp.sort_values(by=['site_name', 'survey_year'])\n",
    "    df_site_kelp['survey_datetime'] = pd.to_datetime(df_site_kelp['survey_year'].astype(str) + '-01-01')\n",
    "    \n",
    "    # Group by site_name and calculate rolling differences\n",
    "    df_site_kelp['survey_change'] = df_site_kelp.groupby('site_name')['survey_mean'].diff()\n",
    "\n",
    "    ## select long-term consistent surveys\n",
    "    # Group the data by site_name and count the number of records for each site\n",
    "    site_counts = df_site_kelp.groupby('site_name').size()\n",
    "    # Identify sites with only one record\n",
    "    single_survey_sites = site_counts[site_counts == 1].index\n",
    "\n",
    "    df_site_kelp = df_site_kelp[~df_site_kelp['site_name'].isin(single_survey_sites)]\n",
    "    if input_location != 'Maria Island':\n",
    "        # Group by site_name and get the number of unique years for each site\n",
    "        site_years = df_site_kelp.groupby('site_name')['survey_year'].nunique()\n",
    "        if input_location == 'Jervis Bay':\n",
    "            consistent_sites = site_years[site_years >= 10].index.tolist()\n",
    "        else:    \n",
    "            consistent_sites = site_years[site_years >= 7].index.tolist()\n",
    "        # Now, filter the main dataframe to keep only these sites\n",
    "        df_site_kelp = df_site_kelp[df_site_kelp['site_name'].isin(consistent_sites)]\n",
    "    \n",
    "    return df_site_kelp"
   ]
  },
  {
   "cell_type": "code",
   "execution_count": null,
   "id": "83bc7c93-c745-4346-be3e-7866ea4e01f7",
   "metadata": {},
   "outputs": [],
   "source": [
    "df_site_kelp = get_site_year(input_location)\n",
    "df_site_kelp"
   ]
  },
  {
   "cell_type": "markdown",
   "id": "797e9ca4-944f-4a7b-9634-19370d5bd643",
   "metadata": {},
   "source": [
    "#### Add summer mhw metrics in the df"
   ]
  },
  {
   "cell_type": "code",
   "execution_count": null,
   "id": "4e9fa031-5731-47b4-9d56-0c1883215891",
   "metadata": {},
   "outputs": [],
   "source": [
    "# Initialize a new column in df_site_kelp to store the computed max summer temperatures\n",
    "df_site_kelp['summer_temp_max'] = np.nan\n",
    "df_site_kelp['summer_dhd50_max'] = np.nan\n",
    "df_site_kelp['summer_inten_max'] = np.nan\n",
    "df_site_kelp['summer_dtdt_max'] = np.nan\n",
    "\n",
    "for site in df_site_kelp.site_name.unique():\n",
    "    dfi = df_site_kelp[df_site_kelp.site_name == site]\n",
    "    \n",
    "    for j in range(1, len(dfi.survey_year)):             # survey_year in dfi is not continuous, so\n",
    "        # find the max temp between the two survey years. (j-1)th is not just one-year before jth year , it is the previous survey year before jth survey year \n",
    "        summer_temp_max = summer_mhw_metrix.summer_temp[summer_mhw_metrix.survey_year.isin(range(dfi.survey_year.iloc[j-1]+1, dfi.survey_year.iloc[j]+1))].max() \n",
    "        summer_dhd50_max = summer_mhw_metrix.summer_dhd50[summer_mhw_metrix.survey_year.isin(range(dfi.survey_year.iloc[j-1]+1, dfi.survey_year.iloc[j]+1))].max()\n",
    "        summer_inten_max = summer_mhw_metrix.summer_inten[summer_mhw_metrix.survey_year.isin(range(dfi.survey_year.iloc[j-1]+1, dfi.survey_year.iloc[j]+1))].max()\n",
    "        summer_dtdt_max = summer_mhw_metrix.summer_dtdt[summer_mhw_metrix.survey_year.isin(range(dfi.survey_year.iloc[j-1]+1, dfi.survey_year.iloc[j]+1))].max() \n",
    "        \n",
    "        # Update the summer_temp_max value in the corresponding row of df_site_kelp\n",
    "        mask = (df_site_kelp.site_name == site) & (df_site_kelp.survey_year == dfi.survey_year.iloc[j])\n",
    "        df_site_kelp.loc[mask, 'summer_temp_max'] = summer_temp_max\n",
    "        df_site_kelp.loc[mask, 'summer_dhd50_max'] = summer_dhd50_max\n",
    "        df_site_kelp.loc[mask, 'summer_inten_max'] = summer_inten_max\n",
    "        df_site_kelp.loc[mask, 'summer_dtdt_max'] = summer_dtdt_max\n",
    "\n",
    "# Now df_site_kelp has an additional column 'summer_temp_max' with the computed max summer temperatures\n",
    "df_site_kelp = df_site_kelp.dropna()\n",
    "df_site_kelp"
   ]
  },
  {
   "cell_type": "code",
   "execution_count": null,
   "id": "637e2eb0-c0cd-4da8-b971-db2737001b3c",
   "metadata": {},
   "outputs": [],
   "source": [
    "# df_site_kelp.to_csv('/g/data/v45/js5018/chapter2/4pop_change_rawdata.csv', index=False)\n",
    "df_existing = pd.read_csv('/g/data/v45/js5018/chapter2/4pop_change_rawdata.csv')\n",
    "df_combined = df_existing.append(df_site_kelp, ignore_index=True)\n",
    "df_combined.to_csv('/g/data/v45/js5018/chapter2/4pop_change_rawdata.csv', index=False)"
   ]
  },
  {
   "cell_type": "markdown",
   "id": "5814d8eb-a8d1-43c5-8d0a-28b7663678bc",
   "metadata": {
    "jp-MarkdownHeadingCollapsed": true,
    "tags": []
   },
   "source": [
    "#### remove 2011 data in Jurien"
   ]
  },
  {
   "cell_type": "code",
   "execution_count": null,
   "id": "3343c277-2f2f-4509-a2a4-22d184f59624",
   "metadata": {},
   "outputs": [],
   "source": [
    "df_site_kelp = df_site_kelp.dropna()\n",
    "df_site_kelp = df_site_kelp[df_site_kelp.survey_year < 2012]\n",
    "df_site_kelp"
   ]
  },
  {
   "cell_type": "code",
   "execution_count": null,
   "id": "3fb375ba-b941-487e-a606-55661359a938",
   "metadata": {},
   "outputs": [],
   "source": [
    "df_site_kelp.to_csv('/g/data/v45/js5018/chapter2/2wapop_change_before2011_v2.csv', index = False)"
   ]
  },
  {
   "cell_type": "markdown",
   "id": "b1a00cb8-8195-4c45-938b-7975b390dc0d",
   "metadata": {
    "jp-MarkdownHeadingCollapsed": true,
    "tags": []
   },
   "source": [
    "#### Fitting a model for dhd!"
   ]
  },
  {
   "cell_type": "code",
   "execution_count": null,
   "id": "ca9c3a09-e212-49f6-abcd-0fb2e36c7953",
   "metadata": {},
   "outputs": [],
   "source": [
    "x = df_site_kelp.summer_dhd50_max\n",
    "y = df_site_kelp.survey_change"
   ]
  },
  {
   "cell_type": "code",
   "execution_count": null,
   "id": "abe65af2-0ab2-4cda-a5e2-e838dad53c7b",
   "metadata": {},
   "outputs": [],
   "source": [
    "model = smf.mixedlm(\"survey_change ~ summer_dhd50_max\", df_site_kelp, groups = df_site_kelp[\"site_name\"])\n",
    "fit = model.fit(method='powell')\n",
    "\n",
    "# Predict y-values for the regression line using the range of 'summer_temp' values\n",
    "x_vals = np.linspace(df_site_kelp['summer_dhd50_max'].min(), df_site_kelp['summer_dhd50_max'].max(), 1000)\n",
    "y_vals = fit.predict(pd.DataFrame({\"summer_dhd50_max\": x_vals}))\n",
    "\n",
    "# Get the summary\n",
    "fit.summary()"
   ]
  },
  {
   "cell_type": "code",
   "execution_count": null,
   "id": "71418a37-06f1-427f-bcd7-725f2f403010",
   "metadata": {},
   "outputs": [],
   "source": [
    "fig = px.scatter(x='summer_dhd50_max', y='survey_change', data_frame = df_site_kelp, color='site_name', opacity=0.6)\n",
    "fig.update_traces(marker_size=10 ,selector=dict(mode='markers'))\n",
    "\n",
    "# Add the regression line to the scatter plot\n",
    "fig.add_traces(go.Scatter(x = x_vals, y = y_vals, mode='lines', name='Linear Mixed Model', line=dict(color='black', dash='dash')))\n",
    "\n",
    "fig.update_layout(autosize=False, width=800, height=600, \n",
    "                  title=f\"Linear mixed-effects regression of kelp change in {input_location}\", xaxis_title= u'Accumulated intensity (\\u00B0C•day)', yaxis_title='Canopy Cover absolute change (%)', \n",
    "                  title_font=dict(family=\"Abadi, Arial, sans-serif\", size=20), xaxis_title_font=dict(family=\"Abadi, Arial, sans-serif\", size=18), yaxis_title_font=dict(family=\"Abadi, Arial, sans-serif\", size=18),\n",
    "                  font=dict(family=\"Abadi, Arial, sans-serif\", size=14))\n",
    "fig.show()"
   ]
  },
  {
   "cell_type": "markdown",
   "id": "3b96da2a-9120-4617-b38b-149a47204640",
   "metadata": {
    "jp-MarkdownHeadingCollapsed": true,
    "tags": []
   },
   "source": [
    "#### Confidence interval for dhd!"
   ]
  },
  {
   "cell_type": "code",
   "execution_count": null,
   "id": "6fbc8de6-3ffa-44e2-8fbe-c18b52534925",
   "metadata": {},
   "outputs": [],
   "source": [
    "import warnings\n",
    "from statsmodels.tools.sm_exceptions import ConvergenceWarning\n",
    "\n",
    "# Number of bootstrap samples\n",
    "n_bootstrap = 1000\n",
    "\n",
    "# Placeholders for our predictions\n",
    "bootstrap_preds = np.zeros((n_bootstrap, len(x_vals)))\n",
    "\n",
    "with warnings.catch_warnings():\n",
    "    warnings.simplefilter(\"ignore\", category=ConvergenceWarning)\n",
    "    \n",
    "    for i in range(n_bootstrap):\n",
    "        # Resample the dataset with replacement\n",
    "        resampled = df_site_kelp.sample(n=len(df_site_kelp), replace=True)\n",
    "        \n",
    "        # Refit the mixed-effects model to the resampled data\n",
    "        model = smf.mixedlm(\"survey_change ~ summer_dhd50_max\", resampled, groups=resampled[\"site_name\"])\n",
    "        fit = model.fit(method='powell', maxiter=1000, disp=0)  # increased maxiter\n",
    "        \n",
    "        # Predict using the new model\n",
    "        y_vals_bootstrap = fit.predict(pd.DataFrame({\"summer_dhd50_max\": x_vals}))\n",
    "        bootstrap_preds[i, :] = y_vals_bootstrap\n",
    "\n",
    "# Calculate the 2.5th and 97.5th percentiles for the predictions\n",
    "lower_bound = np.percentile(bootstrap_preds, 2.5, axis=0)\n",
    "upper_bound = np.percentile(bootstrap_preds, 97.5, axis=0)\n",
    "\n",
    "# Now you can plot your predictions and the confidence intervals\n",
    "plt.plot(x_vals, y_vals, 'b-') \n",
    "plt.fill_between(x_vals, lower_bound, upper_bound, color='gray', alpha=0.5) "
   ]
  },
  {
   "cell_type": "code",
   "execution_count": null,
   "id": "bfd5a22e-249b-4107-a3d3-1048ca84f2c1",
   "metadata": {},
   "outputs": [],
   "source": [
    "summer_dhd70_max = summer_dhd50_max\n",
    "df_model = pd.DataFrame({\"location\": input_location,\n",
    "                         \"summer_dhd50_max\": x_vals,\n",
    "                         \"predicted_change\": y_vals,\n",
    "                         'lower_bound': lower_bound, \n",
    "                         'upper_bound': upper_bound\n",
    "                        })\n",
    "# df_model.to_csv('/g/data/v45/js5018/chapter2/model_3pop_figure/dhdmodel_change_relationship_v2.csv', index=False)\n",
    "df_existing = pd.read_csv('/g/data/v45/js5018/chapter2/model_3pop_figure/dhdmodel_change_relationship_v2.csv')\n",
    "df_combined = df_existing.append(df_model, ignore_index=True)"
   ]
  },
  {
   "cell_type": "code",
   "execution_count": null,
   "id": "d9c51120-2212-48f8-8ce0-3a4df5c8cbe6",
   "metadata": {},
   "outputs": [],
   "source": [
    "# Save the combined data back to CSV\n",
    "df_combined.to_csv('/g/data/v45/js5018/chapter2/model_3pop_figure/dhdmodel_change_relationship_v2.csv', index=False)"
   ]
  },
  {
   "cell_type": "markdown",
   "id": "838ef76e-3c34-4f1d-bc00-62521c875e91",
   "metadata": {
    "tags": []
   },
   "source": [
    "#### Fitting a model for summer_temp!"
   ]
  },
  {
   "cell_type": "code",
   "execution_count": null,
   "id": "f982cd4e-e4d9-44fc-bbc8-f7a8bb23bf7b",
   "metadata": {},
   "outputs": [],
   "source": [
    "x = df_site_kelp.summer_temp_max\n",
    "y = df_site_kelp.survey_change"
   ]
  },
  {
   "cell_type": "code",
   "execution_count": null,
   "id": "1cbd6947-f422-4b58-b6ed-42b887f363fa",
   "metadata": {},
   "outputs": [],
   "source": [
    "model = smf.mixedlm(\"survey_change ~ summer_temp_max\", df_site_kelp, groups = df_site_kelp[\"site_name\"])\n",
    "fit = model.fit(method='powell')\n",
    "\n",
    "# Predict y-values for the regression line using the range of 'summer_temp' values\n",
    "x_vals = np.linspace(df_site_kelp['summer_temp_max'].min(), df_site_kelp['summer_temp_max'].max(), 1000)\n",
    "y_vals = fit.predict(pd.DataFrame({\"summer_temp_max\": x_vals}))\n",
    "\n",
    "# Get the summary\n",
    "fit.summary()"
   ]
  },
  {
   "cell_type": "code",
   "execution_count": null,
   "id": "cc04ca57-cd93-481a-b4d7-ba364334d985",
   "metadata": {},
   "outputs": [],
   "source": [
    "fig = px.scatter(x='summer_temp_max', y='survey_change', data_frame = df_site_kelp, color='site_name', opacity=0.6)\n",
    "fig.update_traces(marker_size=10 ,selector=dict(mode='markers'))\n",
    "\n",
    "# Add the regression line to the scatter plot\n",
    "fig.add_traces(go.Scatter(x = x_vals, y = y_vals, mode='lines', name='Linear Mixed Model', line=dict(color='black', dash='dash')))\n",
    "\n",
    "fig.update_layout(autosize=False, width=800, height=600, \n",
    "                  title=f\"Linear mixed-effects regression of kelp change in {input_location}\", xaxis_title= u'Temperature (\\u00B0C)', yaxis_title='Canopy Cover absolute change (%)', \n",
    "                  title_font=dict(family=\"Abadi, Arial, sans-serif\", size=20), xaxis_title_font=dict(family=\"Abadi, Arial, sans-serif\", size=18), yaxis_title_font=dict(family=\"Abadi, Arial, sans-serif\", size=18),\n",
    "                  font=dict(family=\"Abadi, Arial, sans-serif\", size=14))\n",
    "fig.show()"
   ]
  },
  {
   "cell_type": "markdown",
   "id": "73e6bc50-eeaa-4395-a3d8-66e52c13ab5f",
   "metadata": {
    "tags": []
   },
   "source": [
    "#### confidence interval for summer_temp!"
   ]
  },
  {
   "cell_type": "code",
   "execution_count": null,
   "id": "4cc78719-4bb5-4359-9fa6-134bfd2b2461",
   "metadata": {},
   "outputs": [],
   "source": [
    "n_bootstrap = 1000\n",
    "\n",
    "# Placeholders for our predictions\n",
    "bootstrap_preds = np.zeros((n_bootstrap, len(x_vals)))\n",
    "\n",
    "with warnings.catch_warnings():\n",
    "    warnings.simplefilter(\"ignore\", category=ConvergenceWarning)\n",
    "    \n",
    "    for i in range(n_bootstrap):\n",
    "        # Resample the dataset with replacement\n",
    "        resampled = df_site_kelp.sample(n=len(df_site_kelp), replace=True)\n",
    "        model = smf.mixedlm(\"survey_change ~ summer_temp_max\", resampled, groups=resampled[\"site_name\"])\n",
    "        fit = model.fit(method='powell', maxiter=1000, disp=0)  # increased maxiter\n",
    " \n",
    "        y_vals_bootstrap = fit.predict(pd.DataFrame({\"summer_temp_max\": x_vals}))\n",
    "        bootstrap_preds[i, :] = y_vals_bootstrap\n",
    "\n",
    "lower_bound = np.percentile(bootstrap_preds, 2.5, axis=0)\n",
    "upper_bound = np.percentile(bootstrap_preds, 97.5, axis=0)\n",
    "\n",
    "# Now you can plot your predictions and the confidence intervals\n",
    "plt.plot(x_vals, y_vals, 'b-')  # blue line for the prediction\n",
    "plt.fill_between(x_vals, lower_bound, upper_bound, color='gray', alpha=0.5) "
   ]
  },
  {
   "cell_type": "code",
   "execution_count": null,
   "id": "9c5a64ae-6275-4975-b547-8143b84842bc",
   "metadata": {},
   "outputs": [],
   "source": [
    "df_model = pd.DataFrame({\"location\": input_location,\n",
    "                         \"summer_temp_max\": x_vals,\n",
    "                         \"predicted_change\": y_vals,\n",
    "                         'lower_bound': lower_bound, \n",
    "                         'upper_bound': upper_bound\n",
    "                        })\n",
    "df_model.to_csv('/g/data/v45/js5018/chapter2/model_3pop_figure/jurien_change_relation2011_v2.csv', index=False)\n",
    "# df_existing = pd.read_csv('/g/data/v45/js5018/chapter2/model_3pop_figure/model_change_relationship_v2.csv')\n",
    "# df_combined = df_existing.append(df_model, ignore_index=True)"
   ]
  },
  {
   "cell_type": "code",
   "execution_count": null,
   "id": "dee8c926-c37d-4545-9684-c4599d4b7e38",
   "metadata": {},
   "outputs": [],
   "source": [
    "# Save the combined data back to CSV\n",
    "df_combined.to_csv('/g/data/v45/js5018/chapter2/model_3pop_figure/model_change_relationship_v2.csv', index=False)"
   ]
  },
  {
   "cell_type": "code",
   "execution_count": null,
   "id": "f555beb4-7f01-4551-9b50-777a45a29388",
   "metadata": {},
   "outputs": [],
   "source": []
  },
  {
   "cell_type": "markdown",
   "id": "2b44e00d-ab1d-4205-9df0-00e63160f970",
   "metadata": {
    "tags": []
   },
   "source": [
    "#### Fitting model for max intensity!"
   ]
  },
  {
   "cell_type": "code",
   "execution_count": null,
   "id": "ce66a211-8327-40e4-9533-15909f37f325",
   "metadata": {},
   "outputs": [],
   "source": [
    "x = df_site_kelp.summer_inten_max\n",
    "y = df_site_kelp.summer_inten_max"
   ]
  },
  {
   "cell_type": "code",
   "execution_count": null,
   "id": "25a9260e-78ae-49d4-a868-031283872607",
   "metadata": {},
   "outputs": [],
   "source": [
    "model = smf.mixedlm(\"survey_change ~ summer_inten_max\", df_site_kelp, groups = df_site_kelp[\"site_name\"])\n",
    "fit = model.fit(method='powell')\n",
    "x_vals = np.linspace(df_site_kelp['summer_inten_max'].min(), df_site_kelp['summer_inten_max'].max(), 1000)\n",
    "y_vals = fit.predict(pd.DataFrame({\"summer_inten_max\": x_vals}))\n",
    "\n",
    "fit.summary()"
   ]
  },
  {
   "cell_type": "code",
   "execution_count": null,
   "id": "d7baf8b1-4519-4166-85e9-acd65d53ee51",
   "metadata": {},
   "outputs": [],
   "source": [
    "fig = px.scatter(x='summer_inten_max', y='survey_change', data_frame = df_site_kelp, color='site_name', opacity=0.6)\n",
    "fig.update_traces(marker_size=10 ,selector=dict(mode='markers'))\n",
    "\n",
    "# Add the regression line to the scatter plot\n",
    "fig.add_traces(go.Scatter(x = x_vals, y = y_vals, mode='lines', name='Linear Mixed Model', line=dict(color='black', dash='dash')))\n",
    "\n",
    "# fig.add_trace(go.Scatter(x=x_vals, y=y_vals_linear, mode='lines', name=\"Linear Regression\", marker_color=\"black\"))\n",
    "\n",
    "fig.update_layout(autosize=False, width=800, height=600, \n",
    "                  title=f\"Linear mixed-effects regression of kelp change in {input_location}\", xaxis_title= u'Max intensity (\\u00B0C)', yaxis_title='Canopy Cover absolute change (%)', \n",
    "                  title_font=dict(family=\"Abadi, Arial, sans-serif\", size=20), xaxis_title_font=dict(family=\"Abadi, Arial, sans-serif\", size=18), yaxis_title_font=dict(family=\"Abadi, Arial, sans-serif\", size=18),\n",
    "                  font=dict(family=\"Abadi, Arial, sans-serif\", size=14))\n",
    "fig.show()"
   ]
  },
  {
   "cell_type": "markdown",
   "id": "f641ebe3-cd0e-4726-b20a-27ccbbaf9c21",
   "metadata": {
    "tags": []
   },
   "source": [
    "#### Confidence interval for intensity!"
   ]
  },
  {
   "cell_type": "code",
   "execution_count": null,
   "id": "979eeda2-ed4c-4c1b-9213-082fc5b42a92",
   "metadata": {},
   "outputs": [],
   "source": [
    "n_bootstrap = 1000\n",
    "\n",
    "# Placeholders for our predictions\n",
    "bootstrap_preds = np.zeros((n_bootstrap, len(x_vals)))\n",
    "\n",
    "with warnings.catch_warnings():\n",
    "    warnings.simplefilter(\"ignore\", category=ConvergenceWarning)\n",
    "    \n",
    "    for i in range(n_bootstrap):\n",
    "        # Resample the dataset with replacement\n",
    "        resampled = df_site_kelp.sample(n=len(df_site_kelp), replace=True)\n",
    "        \n",
    "        # Refit the mixed-effects model to the resampled data\n",
    "        model = smf.mixedlm(\"survey_change ~ summer_inten_max\", resampled, groups=resampled[\"site_name\"])\n",
    "        fit = model.fit(method='powell', maxiter=1000, disp=0)  # increased maxiter\n",
    "        \n",
    "        # Predict using the new model\n",
    "        y_vals_bootstrap = fit.predict(pd.DataFrame({\"summer_inten_max\": x_vals}))\n",
    "        bootstrap_preds[i, :] = y_vals_bootstrap\n",
    "\n",
    "# Calculate the 2.5th and 97.5th percentiles for the predictions\n",
    "lower_bound = np.percentile(bootstrap_preds, 2.5, axis=0)\n",
    "upper_bound = np.percentile(bootstrap_preds, 97.5, axis=0)\n",
    "\n",
    "# Now you can plot your predictions and the confidence intervals\n",
    "plt.plot(x_vals, y_vals, 'b-')  # blue line for the prediction\n",
    "plt.fill_between(x_vals, lower_bound, upper_bound, color='gray', alpha=0.5)  "
   ]
  },
  {
   "cell_type": "code",
   "execution_count": null,
   "id": "0b37c80c-75c9-493e-b617-17407fde804d",
   "metadata": {},
   "outputs": [],
   "source": [
    "df_model = pd.DataFrame({\"location\": input_location,\n",
    "                         \"summer_inten_max\": x_vals,\n",
    "                         \"predicted_change\": y_vals,\n",
    "                         'lower_bound': lower_bound, \n",
    "                         'upper_bound': upper_bound\n",
    "                        })\n",
    "# df_model.to_csv('/g/data/v45/js5018/chapter2/model_3pop_figure/inten_max_model_change_relationship_v2.csv', index=False)\n",
    "df_existing = pd.read_csv('/g/data/v45/js5018/chapter2/model_3pop_figure/inten_max_model_change_relationship_v2.csv')\n",
    "df_combined = df_existing.append(df_model, ignore_index=True)"
   ]
  },
  {
   "cell_type": "code",
   "execution_count": null,
   "id": "742f5359-4132-4473-a87e-866bf77b54d3",
   "metadata": {},
   "outputs": [],
   "source": [
    "# Save the combined data back to CSV\n",
    "df_combined.to_csv('/g/data/v45/js5018/chapter2/model_3pop_figure/inten_max_model_change_relationship_v2.csv', index=False)"
   ]
  },
  {
   "cell_type": "markdown",
   "id": "b683250b-7cdf-4126-9b98-dddd9d060d0b",
   "metadata": {
    "tags": []
   },
   "source": [
    "#### Fitting a model for dtdt!"
   ]
  },
  {
   "cell_type": "code",
   "execution_count": null,
   "id": "47e8a5d3-8e46-4c3e-b416-bdec43d27de9",
   "metadata": {},
   "outputs": [],
   "source": [
    "x = df_site_kelp.summer_dtdt_max\n",
    "y = df_site_kelp.survey_change"
   ]
  },
  {
   "cell_type": "code",
   "execution_count": null,
   "id": "6810148a-ab11-465d-afe5-bed0a17239d2",
   "metadata": {},
   "outputs": [],
   "source": [
    "model = smf.mixedlm(\"survey_change ~ summer_dtdt_max\", df_site_kelp, groups = df_site_kelp[\"site_name\"])\n",
    "fit = model.fit(method='powell')\n",
    "\n",
    "x_vals = np.linspace(df_site_kelp['summer_dtdt_max'].min(), df_site_kelp['summer_dtdt_max'].max(), 100)\n",
    "y_vals = fit.predict(pd.DataFrame({\"summer_dtdt_max\": x_vals}))\n",
    "fit.summary()"
   ]
  },
  {
   "cell_type": "code",
   "execution_count": null,
   "id": "1355e6f7-9cde-4cc9-a673-c5d867739473",
   "metadata": {},
   "outputs": [],
   "source": [
    "fig = px.scatter(x='summer_dtdt_max', y='survey_change', data_frame = df_site_kelp, color='site_name', opacity=0.6)\n",
    "fig.update_traces(marker_size=10 ,selector=dict(mode='markers'))\n",
    "\n",
    "fig.add_traces(go.Scatter(x = x_vals, y = y_vals, mode='lines', name='Linear Mixed Model', line=dict(color='black', dash='dash')))\n",
    "\n",
    "fig.update_layout(autosize=False, width=800, height=600, \n",
    "                  title = f\"Linear mixed-effects regression of kelp change in {input_location}\", xaxis_title= u'Max Temperature tendency (\\u00B0C/day)', yaxis_title='Canopy Cover absolute change (%)', \n",
    "                  title_font=dict(family=\"Abadi, Arial, sans-serif\", size=20), xaxis_title_font=dict(family=\"Abadi, Arial, sans-serif\", size=18), yaxis_title_font=dict(family=\"Abadi, Arial, sans-serif\", size=18),\n",
    "                  font=dict(family=\"Abadi, Arial, sans-serif\", size=14))\n",
    "fig.show()"
   ]
  },
  {
   "cell_type": "markdown",
   "id": "4a9e8434-e2cf-4997-9fdf-d3d7aa18410c",
   "metadata": {
    "tags": []
   },
   "source": [
    "#### Confidence interval for dtdt!"
   ]
  },
  {
   "cell_type": "code",
   "execution_count": null,
   "id": "6b56b550-6682-44ef-8400-d6af8220e6e2",
   "metadata": {},
   "outputs": [],
   "source": [
    "n_bootstrap = 1000\n",
    "bootstrap_preds = np.zeros((n_bootstrap, len(x_vals)))\n",
    "\n",
    "with warnings.catch_warnings():\n",
    "    warnings.simplefilter(\"ignore\", category=ConvergenceWarning)\n",
    "    \n",
    "    for i in range(n_bootstrap):\n",
    "        # Resample the dataset with replacement\n",
    "        resampled = df_site_kelp.sample(n=len(df_site_kelp), replace=True)\n",
    "        \n",
    "        # Refit the mixed-effects model to the resampled data\n",
    "        model = smf.mixedlm(\"survey_change ~ summer_dtdt_max\", resampled, groups=resampled[\"site_name\"])\n",
    "        fit = model.fit(method='powell', maxiter=1000, disp=0)  # increased maxiter\n",
    "        \n",
    "        # Predict using the new model\n",
    "        y_vals_bootstrap = fit.predict(pd.DataFrame({\"summer_dtdt_max\": x_vals}))\n",
    "        bootstrap_preds[i, :] = y_vals_bootstrap\n",
    "\n",
    "lower_bound = np.percentile(bootstrap_preds, 2.5, axis=0)\n",
    "upper_bound = np.percentile(bootstrap_preds, 97.5, axis=0)\n",
    "\n",
    "# Now you can plot your predictions and the confidence intervals\n",
    "plt.plot(x_vals, y_vals, 'b-')  # blue line for the prediction\n",
    "plt.fill_between(x_vals, lower_bound, upper_bound, color='gray', alpha=0.5)  "
   ]
  },
  {
   "cell_type": "code",
   "execution_count": null,
   "id": "14788ba7-5ab1-4331-9c6d-4b3f955d00e8",
   "metadata": {},
   "outputs": [],
   "source": [
    "df_model = pd.DataFrame({\"location\": input_location,\n",
    "                         \"summer_dtdt_max\": x_vals,\n",
    "                         \"predicted_change\": y_vals,\n",
    "                         'lower_bound': lower_bound, \n",
    "                         'upper_bound': upper_bound\n",
    "                        })\n",
    "# df_model.to_csv('/g/data/v45/js5018/chapter2/model_3pop_figure/dtdtmodel_change_relationship_v2.csv', index=False)\n",
    "df_existing = pd.read_csv('/g/data/v45/js5018/chapter2/model_3pop_figure/dtdtmodel_change_relationship_v2.csv')\n",
    "df_combined = df_existing.append(df_model, ignore_index=True)"
   ]
  },
  {
   "cell_type": "code",
   "execution_count": null,
   "id": "bf495b09-a39d-4088-b29b-7a055ea1c738",
   "metadata": {},
   "outputs": [],
   "source": [
    "# Save the combined data back to CSV\n",
    "df_combined.to_csv('/g/data/v45/js5018/chapter2/model_3pop_figure/dtdtmodel_change_relationship_v2.csv', index=False)"
   ]
  }
 ],
 "metadata": {
  "kernelspec": {
   "display_name": "Python 3 (ipykernel)",
   "language": "python",
   "name": "python3"
  },
  "language_info": {
   "codemirror_mode": {
    "name": "ipython",
    "version": 3
   },
   "file_extension": ".py",
   "mimetype": "text/x-python",
   "name": "python",
   "nbconvert_exporter": "python",
   "pygments_lexer": "ipython3",
   "version": "3.9.12"
  }
 },
 "nbformat": 4,
 "nbformat_minor": 5
}
